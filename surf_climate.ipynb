{
 "metadata": {
  "language_info": {
   "codemirror_mode": {
    "name": "ipython",
    "version": 3
   },
   "file_extension": ".py",
   "mimetype": "text/x-python",
   "name": "python",
   "nbconvert_exporter": "python",
   "pygments_lexer": "ipython3",
   "version": "3.6.10-final"
  },
  "orig_nbformat": 2,
  "kernelspec": {
   "name": "python3",
   "display_name": "Python 3",
   "language": "python"
  }
 },
 "nbformat": 4,
 "nbformat_minor": 2,
 "cells": [
  {
   "cell_type": "code",
   "execution_count": 1,
   "metadata": {},
   "outputs": [],
   "source": [
    "#Dependencies\n",
    "from matplotlib import style\n",
    "style.use('fivethirtyeight')\n",
    "import matplotlib.pyplot as plt\n",
    "import numpy as np\n",
    "import pandas as pd\n",
    "import datetime as dt\n",
    "\n",
    "## Reflect Tables into SQLAlchemy ORM\n",
    "# Python SQL toolkit and Object Relational Mapper\n",
    "import sqlalchemy\n",
    "from sqlalchemy.ext.automap import automap_base\n",
    "from sqlalchemy.orm import Session\n",
    "from sqlalchemy import create_engine, func\n",
    "from sqlalchemy import inspect\n"
   ]
  },
  {
   "cell_type": "code",
   "execution_count": 2,
   "metadata": {},
   "outputs": [
    {
     "output_type": "execute_result",
     "data": {
      "text/plain": [
       "['measurement', 'station']"
      ]
     },
     "metadata": {},
     "execution_count": 2
    }
   ],
   "source": [
    "#Create engine \n",
    "engine = create_engine(\"sqlite:///Resources/hawaii.sqlite\")\n",
    "\n",
    "#Declare Base using automap_base()\n",
    "Base = automap_base()\n",
    "\n",
    "##############\n",
    "# reflect an existing database into a new model\n",
    "Base.prepare(engine, reflect=True)\n",
    "\n",
    "# reflect the tables\n",
    "# We can view all of the classes that automap found\n",
    "Base.classes.keys()"
   ]
  },
  {
   "cell_type": "code",
   "execution_count": 3,
   "metadata": {},
   "outputs": [],
   "source": [
    " # Save references to each table\n",
    " Measurement =  Base.classes.measurement\n",
    " Station = Base.classes.station"
   ]
  },
  {
   "cell_type": "code",
   "execution_count": 4,
   "metadata": {},
   "outputs": [],
   "source": [
    "# Create our session (link) from Python to the DB\n",
    "session = Session(engine)"
   ]
  },
  {
   "cell_type": "code",
   "execution_count": 5,
   "metadata": {},
   "outputs": [
    {
     "output_type": "execute_result",
     "data": {
      "text/plain": [
       "[{'name': 'id',\n",
       "  'type': INTEGER(),\n",
       "  'nullable': False,\n",
       "  'default': None,\n",
       "  'autoincrement': 'auto',\n",
       "  'primary_key': 1},\n",
       " {'name': 'station',\n",
       "  'type': TEXT(),\n",
       "  'nullable': True,\n",
       "  'default': None,\n",
       "  'autoincrement': 'auto',\n",
       "  'primary_key': 0},\n",
       " {'name': 'date',\n",
       "  'type': TEXT(),\n",
       "  'nullable': True,\n",
       "  'default': None,\n",
       "  'autoincrement': 'auto',\n",
       "  'primary_key': 0},\n",
       " {'name': 'prcp',\n",
       "  'type': FLOAT(),\n",
       "  'nullable': True,\n",
       "  'default': None,\n",
       "  'autoincrement': 'auto',\n",
       "  'primary_key': 0},\n",
       " {'name': 'tobs',\n",
       "  'type': FLOAT(),\n",
       "  'nullable': True,\n",
       "  'default': None,\n",
       "  'autoincrement': 'auto',\n",
       "  'primary_key': 0}]"
      ]
     },
     "metadata": {},
     "execution_count": 5
    }
   ],
   "source": [
    "#Determine what attributes are in the class\n",
    "###Use inspector to get 'measurement' attributes, 'station' attributes\n",
    "inspector = inspect(engine)\n",
    "inspector.get_table_names()\n",
    "columns = inspector.get_columns('Measurement')\n",
    "columns"
   ]
  },
  {
   "cell_type": "code",
   "execution_count": 6,
   "metadata": {},
   "outputs": [
    {
     "output_type": "stream",
     "name": "stdout",
     "text": [
      "Measurement_df\n   id      station        date  prcp  tobs\n0   1  USC00519397  2010-01-01  0.08  65.0\n1   2  USC00519397  2010-01-02  0.00  63.0\n2   3  USC00519397  2010-01-03  0.00  74.0\n3   4  USC00519397  2010-01-04  0.00  76.0\n4   5  USC00519397  2010-01-06   NaN  73.0\nStation_df\n   id      station                                    name  latitude  \\\n0   1  USC00519397                    WAIKIKI 717.2, HI US   21.2716   \n1   2  USC00513117                    KANEOHE 838.1, HI US   21.4234   \n2   3  USC00514830  KUALOA RANCH HEADQUARTERS 886.9, HI US   21.5213   \n3   4  USC00517948                       PEARL CITY, HI US   21.3934   \n4   5  USC00518838              UPPER WAHIAWA 874.3, HI US   21.4992   \n\n   longitude  elevation  \n0  -157.8168        3.0  \n1  -157.8015       14.6  \n2  -157.8374        7.0  \n3  -157.9751       11.9  \n4  -158.0111      306.6  \n"
     ]
    },
    {
     "output_type": "execute_result",
     "data": {
      "text/plain": [
       "id           int64\n",
       "station     object\n",
       "date        object\n",
       "prcp       float64\n",
       "tobs       float64\n",
       "dtype: object"
      ]
     },
     "metadata": {},
     "execution_count": 6
    }
   ],
   "source": [
    "#Load Measurement and Station into panda dataframes\n",
    "stmt = session.query(Measurement).statement\n",
    "Measurement_df = pd.read_sql_query(stmt, session.bind)\n",
    "print(\"Measurement_df\")\n",
    "print(Measurement_df.head())\n",
    "\n",
    "stmt = session.query(Station).statement\n",
    "Station_df = pd.read_sql_query(stmt, session.bind)\n",
    "print(\"Station_df\")\n",
    "print(Station_df.head())\n",
    "Measurement_df.dtypes\n"
   ]
  },
  {
   "source": [
    "Exploratory Climate Analysis"
   ],
   "cell_type": "markdown",
   "metadata": {}
  },
  {
   "cell_type": "code",
   "execution_count": 7,
   "metadata": {},
   "outputs": [
    {
     "output_type": "stream",
     "name": "stdout",
     "text": [
      "<class 'pandas.core.frame.DataFrame'>\nRangeIndex: 19550 entries, 0 to 19549\nData columns (total 5 columns):\n #   Column   Non-Null Count  Dtype         \n---  ------   --------------  -----         \n 0   id       19550 non-null  int64         \n 1   station  19550 non-null  object        \n 2   date     19550 non-null  datetime64[ns]\n 3   prcp     18103 non-null  float64       \n 4   tobs     19550 non-null  float64       \ndtypes: datetime64[ns](1), float64(2), int64(1), object(1)\nmemory usage: 763.8+ KB\nNone\n"
     ]
    },
    {
     "output_type": "execute_result",
     "data": {
      "text/plain": [
       "               id      station  prcp  tobs\n",
       "date                                      \n",
       "2016-08-23   2364  USC00519397  0.00  81.0\n",
       "2016-08-23   8825  USC00517948   NaN  80.0\n",
       "2016-08-23  14608  USC00519281  1.79  77.0\n",
       "2016-08-23   7331  USC00514830  0.05  80.0\n",
       "2016-08-23   5091  USC00513117  0.15  76.0\n",
       "...           ...          ...   ...   ...\n",
       "2017-08-22  12186  USC00519523  0.00  82.0\n",
       "2017-08-23   7635  USC00514830  0.00  82.0\n",
       "2017-08-23   2724  USC00519397  0.00  81.0\n",
       "2017-08-23  12187  USC00519523  0.08  82.0\n",
       "2017-08-23  19550  USC00516128  0.45  76.0\n",
       "\n",
       "[2230 rows x 4 columns]"
      ],
      "text/html": "<div>\n<style scoped>\n    .dataframe tbody tr th:only-of-type {\n        vertical-align: middle;\n    }\n\n    .dataframe tbody tr th {\n        vertical-align: top;\n    }\n\n    .dataframe thead th {\n        text-align: right;\n    }\n</style>\n<table border=\"1\" class=\"dataframe\">\n  <thead>\n    <tr style=\"text-align: right;\">\n      <th></th>\n      <th>id</th>\n      <th>station</th>\n      <th>prcp</th>\n      <th>tobs</th>\n    </tr>\n    <tr>\n      <th>date</th>\n      <th></th>\n      <th></th>\n      <th></th>\n      <th></th>\n    </tr>\n  </thead>\n  <tbody>\n    <tr>\n      <th>2016-08-23</th>\n      <td>2364</td>\n      <td>USC00519397</td>\n      <td>0.00</td>\n      <td>81.0</td>\n    </tr>\n    <tr>\n      <th>2016-08-23</th>\n      <td>8825</td>\n      <td>USC00517948</td>\n      <td>NaN</td>\n      <td>80.0</td>\n    </tr>\n    <tr>\n      <th>2016-08-23</th>\n      <td>14608</td>\n      <td>USC00519281</td>\n      <td>1.79</td>\n      <td>77.0</td>\n    </tr>\n    <tr>\n      <th>2016-08-23</th>\n      <td>7331</td>\n      <td>USC00514830</td>\n      <td>0.05</td>\n      <td>80.0</td>\n    </tr>\n    <tr>\n      <th>2016-08-23</th>\n      <td>5091</td>\n      <td>USC00513117</td>\n      <td>0.15</td>\n      <td>76.0</td>\n    </tr>\n    <tr>\n      <th>...</th>\n      <td>...</td>\n      <td>...</td>\n      <td>...</td>\n      <td>...</td>\n    </tr>\n    <tr>\n      <th>2017-08-22</th>\n      <td>12186</td>\n      <td>USC00519523</td>\n      <td>0.00</td>\n      <td>82.0</td>\n    </tr>\n    <tr>\n      <th>2017-08-23</th>\n      <td>7635</td>\n      <td>USC00514830</td>\n      <td>0.00</td>\n      <td>82.0</td>\n    </tr>\n    <tr>\n      <th>2017-08-23</th>\n      <td>2724</td>\n      <td>USC00519397</td>\n      <td>0.00</td>\n      <td>81.0</td>\n    </tr>\n    <tr>\n      <th>2017-08-23</th>\n      <td>12187</td>\n      <td>USC00519523</td>\n      <td>0.08</td>\n      <td>82.0</td>\n    </tr>\n    <tr>\n      <th>2017-08-23</th>\n      <td>19550</td>\n      <td>USC00516128</td>\n      <td>0.45</td>\n      <td>76.0</td>\n    </tr>\n  </tbody>\n</table>\n<p>2230 rows × 4 columns</p>\n</div>"
     },
     "metadata": {},
     "execution_count": 7
    }
   ],
   "source": [
    "# # Design a query to retrieve the last 12 months of precipitation data and plot the results\n",
    "\n",
    "conn=engine.connect()\n",
    "Measurement_yr_df = pd.read_sql(\"SELECT * FROM Measurement\" , conn)\n",
    "Measurement_yr_df\n",
    "\n",
    "##### Convert to column 'date' from format 'object' to 'datetime' \n",
    "Measurement_yr_df[\"date\"]=pd.to_datetime(Measurement_yr_df[\"date\"],format=\"%Y/%m/%d\")\n",
    "#Measurement_yr_df.info()  #Check dtype has converted from 'object' to 'datetime'\n",
    "print(Measurement_yr_df.info())\n",
    "\n",
    "##### Calculate the date 1 year ago from the last data point in the database\n",
    "#Check most recent date that data provides\n",
    "Measurement_yr_df[\"date\"].max()   #It is 2017-08-23\n",
    "\n",
    "older_date = \"2016-08-23\"\n",
    "latest_date = \"2017-08-23\"\n",
    "\n",
    "Measurement_yr_df = Measurement_yr_df.loc[Measurement_yr_df[\"date\"].between(older_date, latest_date)]\n",
    "Measurement_yr_df\n",
    "\n",
    "# Perform a query to retrieve the data and precipitation scores\n",
    "########I didn't do this via query for this step####\n",
    "Measurement_yr_df\n",
    "\n",
    "# Save the query results as a Pandas DataFrame and set the index to the date column\n",
    "Measurement_yr_df = Measurement_yr_df.set_index(\"date\")\n",
    "Measurement_yr_df\n",
    "\n",
    "# Sort the dataframe by date\n",
    "Measurement_yr_df = Measurement_yr_df.sort_values(by=\"date\")\n",
    "Measurement_yr_df\n",
    "\n",
    "# Use Pandas Plotting with Matplotlib to plot the data"
   ]
  },
  {
   "cell_type": "code",
   "execution_count": 8,
   "metadata": {},
   "outputs": [
    {
     "output_type": "execute_result",
     "data": {
      "text/plain": [
       "count    2021.000000\n",
       "mean        0.177279\n",
       "std         0.461190\n",
       "min         0.000000\n",
       "25%         0.000000\n",
       "50%         0.020000\n",
       "75%         0.130000\n",
       "max         6.700000\n",
       "Name: prcp, dtype: float64"
      ]
     },
     "metadata": {},
     "execution_count": 8
    }
   ],
   "source": [
    "# Use Pandas to calcualte the summary statistics for the precipitation data\n",
    "prcp_summary=Measurement_yr_df[\"prcp\"].describe()\n",
    "prcp_summary"
   ]
  },
  {
   "cell_type": "code",
   "execution_count": 25,
   "metadata": {},
   "outputs": [
    {
     "output_type": "execute_result",
     "data": {
      "text/plain": [
       "          id      station        date  prcp  tobs\n",
       "0          1  USC00519397  2010-01-01  0.08  65.0\n",
       "1          2  USC00519397  2010-01-02  0.00  63.0\n",
       "2          3  USC00519397  2010-01-03  0.00  74.0\n",
       "3          4  USC00519397  2010-01-04  0.00  76.0\n",
       "4          5  USC00519397  2010-01-06   NaN  73.0\n",
       "...      ...          ...         ...   ...   ...\n",
       "19545  19546  USC00516128  2017-08-19  0.09  71.0\n",
       "19546  19547  USC00516128  2017-08-20   NaN  78.0\n",
       "19547  19548  USC00516128  2017-08-21  0.56  76.0\n",
       "19548  19549  USC00516128  2017-08-22  0.50  76.0\n",
       "19549  19550  USC00516128  2017-08-23  0.45  76.0\n",
       "\n",
       "[19550 rows x 5 columns]"
      ],
      "text/html": "<div>\n<style scoped>\n    .dataframe tbody tr th:only-of-type {\n        vertical-align: middle;\n    }\n\n    .dataframe tbody tr th {\n        vertical-align: top;\n    }\n\n    .dataframe thead th {\n        text-align: right;\n    }\n</style>\n<table border=\"1\" class=\"dataframe\">\n  <thead>\n    <tr style=\"text-align: right;\">\n      <th></th>\n      <th>id</th>\n      <th>station</th>\n      <th>date</th>\n      <th>prcp</th>\n      <th>tobs</th>\n    </tr>\n  </thead>\n  <tbody>\n    <tr>\n      <th>0</th>\n      <td>1</td>\n      <td>USC00519397</td>\n      <td>2010-01-01</td>\n      <td>0.08</td>\n      <td>65.0</td>\n    </tr>\n    <tr>\n      <th>1</th>\n      <td>2</td>\n      <td>USC00519397</td>\n      <td>2010-01-02</td>\n      <td>0.00</td>\n      <td>63.0</td>\n    </tr>\n    <tr>\n      <th>2</th>\n      <td>3</td>\n      <td>USC00519397</td>\n      <td>2010-01-03</td>\n      <td>0.00</td>\n      <td>74.0</td>\n    </tr>\n    <tr>\n      <th>3</th>\n      <td>4</td>\n      <td>USC00519397</td>\n      <td>2010-01-04</td>\n      <td>0.00</td>\n      <td>76.0</td>\n    </tr>\n    <tr>\n      <th>4</th>\n      <td>5</td>\n      <td>USC00519397</td>\n      <td>2010-01-06</td>\n      <td>NaN</td>\n      <td>73.0</td>\n    </tr>\n    <tr>\n      <th>...</th>\n      <td>...</td>\n      <td>...</td>\n      <td>...</td>\n      <td>...</td>\n      <td>...</td>\n    </tr>\n    <tr>\n      <th>19545</th>\n      <td>19546</td>\n      <td>USC00516128</td>\n      <td>2017-08-19</td>\n      <td>0.09</td>\n      <td>71.0</td>\n    </tr>\n    <tr>\n      <th>19546</th>\n      <td>19547</td>\n      <td>USC00516128</td>\n      <td>2017-08-20</td>\n      <td>NaN</td>\n      <td>78.0</td>\n    </tr>\n    <tr>\n      <th>19547</th>\n      <td>19548</td>\n      <td>USC00516128</td>\n      <td>2017-08-21</td>\n      <td>0.56</td>\n      <td>76.0</td>\n    </tr>\n    <tr>\n      <th>19548</th>\n      <td>19549</td>\n      <td>USC00516128</td>\n      <td>2017-08-22</td>\n      <td>0.50</td>\n      <td>76.0</td>\n    </tr>\n    <tr>\n      <th>19549</th>\n      <td>19550</td>\n      <td>USC00516128</td>\n      <td>2017-08-23</td>\n      <td>0.45</td>\n      <td>76.0</td>\n    </tr>\n  </tbody>\n</table>\n<p>19550 rows × 5 columns</p>\n</div>"
     },
     "metadata": {},
     "execution_count": 25
    }
   ],
   "source": [
    "Measurement_df['station'].unique()\n",
    "Measurement_df"
   ]
  },
  {
   "cell_type": "code",
   "execution_count": 18,
   "metadata": {},
   "outputs": [
    {
     "output_type": "stream",
     "name": "stdout",
     "text": [
      "Number of Stations: (9,)\n\n('USC00519397',)\n\n('USC00513117',)\n\n('USC00514830',)\n\n('USC00517948',)\n\n('USC00518838',)\n\n('USC00519523',)\n\n('USC00519281',)\n\n('USC00511918',)\n\n('USC00516128',)\n"
     ]
    }
   ],
   "source": [
    "# Design a query to show how many stations are available in this dataset? ('Measurements' dataset)\n",
    "\n",
    "#Dependencies\n",
    "from sqlalchemy import distinct\n",
    "\n",
    "# count distinct \"name\" values\n",
    "num_stations=session.query(func.count(distinct(Measurement.station))).first()\n",
    "print(f\"Number of Stations: {num_stations}\")\n",
    "\n",
    "#List the unique stations\n",
    "records = engine.execute(\"SELECT DISTINCT (station) FROM Measurement\")\n",
    "for record in records:\n",
    "    print(f\"\\n{record}\")\n"
   ]
  },
  {
   "cell_type": "code",
   "execution_count": 22,
   "metadata": {},
   "outputs": [
    {
     "output_type": "stream",
     "name": "stdout",
     "text": [
      "\n(1979,)\n\n(2709,)\n\n(2202,)\n\n(2612,)\n\n(1372,)\n\n(511,)\n\n(2772,)\n\n(2724,)\n\n(2669,)\n"
     ]
    }
   ],
   "source": [
    "# What are the most active stations? (i.e. what stations have the most rows)?\n",
    "# List the stations and the counts in descending order.\n",
    "\n",
    "#Return count of \"station id\" grouped by \"station\"\n",
    "station_id_group=session.query(func.count(Measurement.station)).\\\n",
    "    group_by(Measurement.station)\n",
    "\n",
    "for record in station_id_group:\n",
    "    print(f\"\\n{record}\")"
   ]
  },
  {
   "cell_type": "code",
   "execution_count": 11,
   "metadata": {},
   "outputs": [],
   "source": [
    "# Using the station id from the previous query, calculate the lowest temperature recorded, \n",
    "# highest temperature recorded, and average temperature of the most active station?"
   ]
  },
  {
   "cell_type": "code",
   "execution_count": 12,
   "metadata": {},
   "outputs": [],
   "source": [
    "# Choose the station with the highest number of temperature observations.\n",
    "# Query the last 12 months of temperature observation data for this station and plot the results as a histogram\n",
    "\n",
    "\n"
   ]
  }
 ]
}